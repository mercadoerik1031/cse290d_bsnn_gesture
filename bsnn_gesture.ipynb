{
  "cells": [
    {
      "cell_type": "code",
      "execution_count": 1,
      "metadata": {
        "colab": {
          "base_uri": "https://localhost:8080/"
        },
        "id": "vWk95fSEK-Zl",
        "outputId": "b3335ab0-12f6-4e3d-c52a-42d94e55b01c"
      },
      "outputs": [],
      "source": [
        "# from google.colab import drive\n",
        "# drive.mount('/content/drive')\n"
      ]
    },
    {
      "cell_type": "code",
      "execution_count": 2,
      "metadata": {
        "colab": {
          "base_uri": "https://localhost:8080/"
        },
        "id": "cx0PQIGuZUsm",
        "outputId": "2552b35f-c1cb-412f-a7d7-fbf0b2edeb35"
      },
      "outputs": [],
      "source": [
        "# %pip install tonic snntorch icecream optuna --quiet"
      ]
    },
    {
      "cell_type": "markdown",
      "metadata": {
        "id": "C6vzXeU2KYW9"
      },
      "source": [
        "# Imports"
      ]
    },
    {
      "cell_type": "code",
      "execution_count": 3,
      "metadata": {
        "id": "JhzD8pbbHEWb"
      },
      "outputs": [],
      "source": [
        "import tonic\n",
        "import tonic.transforms as transforms\n",
        "from tonic.datasets import DVSGesture\n",
        "from tonic import DiskCachedDataset\n",
        "\n",
        "import torch\n",
        "import torch.nn as nn\n",
        "import torch.nn.functional as F\n",
        "from torch.utils.data import random_split, DataLoader, Dataset\n",
        "from torch.autograd import Function\n",
        "from torch.optim import Adam\n",
        "\n",
        "import torchvision\n",
        "\n",
        "\n",
        "import snntorch as snn\n",
        "\n",
        "import matplotlib.pyplot as plt\n",
        "\n",
        "from icecream import ic\n",
        "import time\n",
        "import numpy as np\n",
        "\n",
        "import optuna\n",
        "\n",
        "import multiprocessing as mp\n",
        "\n",
        "import os\n"
      ]
    },
    {
      "cell_type": "markdown",
      "metadata": {
        "id": "66vS8UVBK3XH"
      },
      "source": [
        "# Config"
      ]
    },
    {
      "cell_type": "code",
      "execution_count": 4,
      "metadata": {
        "id": "T7Qdz7HeK2_z"
      },
      "outputs": [],
      "source": [
        "config = {\n",
        "    # Binning\n",
        "    \"filter_time\": 10_000,\n",
        "    \"sensor_size\": tonic.datasets.DVSGesture.sensor_size,\n",
        "    \"time_window\": 1_000,\n",
        "\n",
        "    # Batch\n",
        "    \"batch_size\": 1,\n",
        "\n",
        "    # BSNN / SNN Values\n",
        "    \"thresh_1\": 2,\n",
        "    \"thresh_2\": 2,\n",
        "    \"thresh_3\": 3,\n",
        "    \"beta\": 0.4,\n",
        "    \"num_steps\": 10,\n",
        "\n",
        "    # Network\n",
        "    \"batch_norm\": True,\n",
        "    \"dropout\": 0.25,\n",
        "\n",
        "    # Hyper Params\n",
        "    \"lr\": 7e-3,\n",
        "\n",
        "    # Training\n",
        "    \"epochs\": 10,\n",
        "    \"device\": torch.device(\"cuda\" if torch.cuda.is_available() else \"cpu\"),\n",
        "\n",
        "}\n"
      ]
    },
    {
      "cell_type": "markdown",
      "metadata": {
        "id": "Fnb2UQwWKcPR"
      },
      "source": [
        "# Data Preperation"
      ]
    },
    {
      "cell_type": "markdown",
      "metadata": {},
      "source": [
        "## Train / Val Split"
      ]
    },
    {
      "cell_type": "code",
      "execution_count": 5,
      "metadata": {},
      "outputs": [],
      "source": [
        "def train_val_split(train_set):\n",
        "    \n",
        "    train_size = int(0.8 * len(train_set))\n",
        "    val_size = len(train_set) - train_size\n",
        "    train_set, val_set = random_split(train_set, [train_size, val_size])\n",
        "\n",
        "    return train_set, val_set"
      ]
    },
    {
      "cell_type": "markdown",
      "metadata": {
        "id": "rLCzKw5_KjQ1"
      },
      "source": [
        "## Download Data"
      ]
    },
    {
      "cell_type": "code",
      "execution_count": 6,
      "metadata": {},
      "outputs": [],
      "source": [
        "# Initial transforms for preprocessing\n",
        "transform_preprocess = tonic.transforms.Compose([\n",
        "    transforms.Denoise(filter_time=config[\"filter_time\"]),\n",
        "    transforms.ToFrame(sensor_size=config[\"sensor_size\"], time_window=config[\"time_window\"]),\n",
        "])\n",
        "\n",
        "# Load the datasets\n",
        "train_set = DVSGesture(save_to=\"/home/emercad3\", transform=transform_preprocess, train=True)\n",
        "test_set = DVSGesture(save_to=\"/home/emercad3\", transform=transform_preprocess, train=False)\n",
        "\n",
        "# Cache path correction (ensure unique paths for train and test)\n",
        "cached_train_set_path = \"/home/emercad3/cache/gesture/train\"\n",
        "cached_test_set_path = \"/home/emercad3/cache/gesture/test\"  # Corrected path for test cache\n",
        "\n",
        "# Apply initial caching\n",
        "cached_train_set = DiskCachedDataset(train_set, cache_path=cached_train_set_path)\n",
        "cached_test_set = DiskCachedDataset(test_set, cache_path=cached_test_set_path)\n",
        "\n",
        "# Augmentation transforms\n",
        "transform_augment = tonic.transforms.Compose([\n",
        "    torch.from_numpy,  # Ensure this is compatible with your data format\n",
        "    torchvision.transforms.RandomRotation([-10, 10]),\n",
        "])\n",
        "\n",
        "# Reapply DiskCachedDataset with augmentation for training set\n",
        "# Note: You may want to use a different cache path if the preprocessing changes significantly\n",
        "cached_train_set = DiskCachedDataset(train_set, cache_path=cached_train_set_path, transform=transform_augment)\n",
        "\n",
        "# For the test set, typically, you don't apply augmentation, so no need to redefine it\n",
        "\n",
        "# DataLoaders with multithreading\n",
        "train_loader = DataLoader(cached_train_set, batch_size=config[\"batch_size\"], collate_fn=tonic.collation.PadTensors(batch_first=False), shuffle=True, num_workers=0)\n",
        "test_loader = DataLoader(cached_test_set, batch_size=config[\"batch_size\"], collate_fn=tonic.collation.PadTensors(batch_first=False), num_workers=0)\n"
      ]
    },
    {
      "cell_type": "markdown",
      "metadata": {
        "id": "7l71m36RLqrN"
      },
      "source": [
        "# Binarization Model"
      ]
    },
    {
      "cell_type": "markdown",
      "metadata": {
        "id": "PJOofi96Lt1S"
      },
      "source": [
        "## Binarization"
      ]
    },
    {
      "cell_type": "code",
      "execution_count": 7,
      "metadata": {
        "id": "Xkky9qhHLs2V"
      },
      "outputs": [],
      "source": [
        "class Binarize(Function):\n",
        "  @staticmethod\n",
        "  def forward(weight_ref, inpt):\n",
        "    return inpt.sign().clamp(min=-1)\n",
        "\n",
        "  @staticmethod\n",
        "  def backward(weight_ref, gradient_out):\n",
        "    gradient_in = gradient_out.clone()\n",
        "    return gradient_in"
      ]
    },
    {
      "cell_type": "markdown",
      "metadata": {
        "id": "RqPB0j29MdwX"
      },
      "source": [
        "## Binary Conv2d Layer"
      ]
    },
    {
      "cell_type": "code",
      "execution_count": 8,
      "metadata": {
        "id": "VfYFQj4BMggI"
      },
      "outputs": [],
      "source": [
        "class BinaryConv2d(nn.Conv2d):\n",
        "  def __init__(self, *kargs, **kwargs):\n",
        "    super(BinaryConv2d, self).__init__(*kargs, **kwargs)\n",
        "\n",
        "  def forward(self, inpt):\n",
        "    binarized_weights = Binarize.apply(self.weight)\n",
        "    return F.conv2d(inpt, binarized_weights)\n",
        "\n",
        "  def reset_params(self):\n",
        "    nn.init.xavier_normal_(self.weight)\n",
        "    if self.bias is not None:\n",
        "      nn.init.constant(self.bias, 0)\n"
      ]
    },
    {
      "cell_type": "markdown",
      "metadata": {
        "id": "6za5jS_oN_Me"
      },
      "source": [
        "## Binary Linear Layer"
      ]
    },
    {
      "cell_type": "code",
      "execution_count": 9,
      "metadata": {
        "id": "1kEAO82rOCHW"
      },
      "outputs": [],
      "source": [
        "class BinaryLinear(nn.Linear):\n",
        "  def __init__(self, *kargs, **kwargs):\n",
        "    super(BinaryLinear, self).__init__(*kargs, **kwargs)\n",
        "\n",
        "    def forward(self, inpt):\n",
        "        bin_weights = Binarize.apply(self.weight)\n",
        "        if self.bias is None:\n",
        "            return F.linear(inpt, bin_weights)\n",
        "        else:\n",
        "            return F.linear(inpt, bin_weights, self.bias)\n",
        "\n",
        "    def reset_parameters(self):\n",
        "        torch.nn.init.xavier_normal_(self.weight)\n",
        "        if self.bias is not None:\n",
        "            torch.nn.init.constant_(self.bias, 0)\n"
      ]
    },
    {
      "cell_type": "markdown",
      "metadata": {
        "id": "pY5W_yojXjt5"
      },
      "source": [
        "## BSNN Architecture"
      ]
    },
    {
      "cell_type": "code",
      "execution_count": 10,
      "metadata": {
        "id": "FRLpBZglXjGc"
      },
      "outputs": [],
      "source": [
        "class BSNN(nn.Module):\n",
        "    def __init__(self, config):\n",
        "        super(BSNN, self).__init__()\n",
        "\n",
        "        self.thresh_1 = config[\"thresh_1\"]\n",
        "        self.thresh_2 = config[\"thresh_2\"]\n",
        "        self.thresh_3 = config[\"thresh_3\"]\n",
        "        self.beta = config[\"beta\"]\n",
        "        self.num_steps = config[\"num_steps\"]\n",
        "\n",
        "        self.batch_norm = config[\"batch_norm\"]\n",
        "        self.dropout = config[\"dropout\"]\n",
        "\n",
        "        self.bin_conv_1 = BinaryConv2d(in_channels=2, out_channels=12, kernel_size=5, bias=False)\n",
        "        self.batch_norm_1 = nn.BatchNorm2d(num_features=12)\n",
        "        self.max_pool_1 = nn.MaxPool2d(kernel_size=2)\n",
        "        self.lif_1 = snn.Leaky(beta=self.beta, threshold=self.thresh_1)\n",
        "\n",
        "        self.bin_conv_2 = BinaryConv2d(in_channels=12, out_channels=24, kernel_size=5, bias=False)\n",
        "        self.batch_norm_2 = nn.BatchNorm2d(num_features=24)\n",
        "        self.max_pool_2 = nn.MaxPool2d(kernel_size=2)\n",
        "        self.lif_2 = snn.Leaky(beta=self.beta, threshold=self.thresh_2)\n",
        "\n",
        "        self.flatten = nn.Flatten()\n",
        "        # self.bin_fully_connected_1 = BinaryLinear(in_features=128*15*15, out_features=11)\n",
        "        self.bin_fully_connected_1 = BinaryLinear(in_features=24*29*29, out_features=128)\n",
        "        self.dropout = nn.Dropout(self.dropout)\n",
        "        self.bin_fully_connected_2 = BinaryLinear(in_features=128, out_features=11)\n",
        "        self.lif_3 = snn.Leaky(beta=self.beta, threshold=self.thresh_3)\n",
        "\n",
        "\n",
        "    def forward(self, inpt):\n",
        "        inpt = inpt.float()\n",
        "        batch_size, time_bins, polarities, height, width = inpt.size()\n",
        "        print(f\"Input shape: {inpt.shape}\")  # Print input shape\n",
        "\n",
        "        # Merge time bins with batch dimension\n",
        "        inpt = inpt.view(batch_size * time_bins, polarities, height, width)\n",
        "        print(f\"Shape after merging time bins: {inpt.shape}\")\n",
        "\n",
        "        mem_1 = self.lif_1.init_leaky()\n",
        "        mem_2 = self.lif_2.init_leaky()\n",
        "        mem_3 = self.lif_3.init_leaky()\n",
        "\n",
        "        spike_3_rec = []\n",
        "        mem_3_rec = []\n",
        "\n",
        "        for step in range(self.num_steps):\n",
        "            current_1 = self.bin_conv_1(inpt)\n",
        "            print(f\"Shape after bin_conv_1: {current_1.shape}\")\n",
        "\n",
        "            current_1 = self.batch_norm_1(current_1) if self.batch_norm else current_1\n",
        "            print(f\"Shape after batch_norm_1: {current_1.shape}\")\n",
        "\n",
        "            current_1 = self.max_pool_1(current_1)\n",
        "            print(f\"Shape after max_pool_1: {current_1.shape}\")\n",
        "\n",
        "            spike_1, mem_1 = self.lif_1(current_1, mem_1)\n",
        "\n",
        "            current_2 = self.bin_conv_2(spike_1)\n",
        "            print(f\"Shape after bin_conv_2: {current_2.shape}\")\n",
        "\n",
        "            current_2 = self.batch_norm_2(current_2) if self.batch_norm else current_2\n",
        "            print(f\"Shape after batch_norm_2: {current_2.shape}\")\n",
        "\n",
        "            current_2 = self.max_pool_2(current_2)\n",
        "            print(f\"Shape after max_pool_2: {current_2.shape}\")\n",
        "\n",
        "            spike_2, mem_2 = self.lif_2(current_2, mem_2)\n",
        "\n",
        "            current_3 = self.flatten(spike_2)\n",
        "            print(f\"Shape after flatten: {current_3.shape}\")\n",
        "\n",
        "            current_3 = self.bin_fully_connected_1(current_3)\n",
        "            print(f\"Shape after bin_fully_connected_1: {current_3.shape}\")\n",
        "\n",
        "            current_3 = self.dropout(current_3)\n",
        "            print(f\"Shape after dropout: {current_3.shape}\")\n",
        "            \n",
        "            current_3 = self.bin_fully_connected_2(current_3)\n",
        "            print(f\"Shape after bin_fully_connected_2: {current_3.shape}\")\n",
        "\n",
        "            spike_3, mem_3 = self.lif_3(current_3, mem_3)\n",
        "\n",
        "            spike_3_rec.append(spike_3)\n",
        "            mem_3_rec.append(mem_3)\n",
        "\n",
        "        return torch.stack(spike_3_rec, dim=0), torch.stack(mem_3_rec, dim=0)"
      ]
    },
    {
      "cell_type": "markdown",
      "metadata": {
        "id": "2EK8q_qWbc8o"
      },
      "source": [
        "# Training"
      ]
    },
    {
      "cell_type": "markdown",
      "metadata": {
        "id": "MPqs2P8tb-Ux"
      },
      "source": [
        "## Training Func"
      ]
    },
    {
      "cell_type": "code",
      "execution_count": 11,
      "metadata": {
        "id": "lx0efLB3b_jo"
      },
      "outputs": [],
      "source": [
        "def train(\n",
        "    train_loader,\n",
        "    model,\n",
        "    optimizer,\n",
        "    loss_func,\n",
        "    device=config[\"device\"]):\n",
        "\n",
        "  model.train()\n",
        "  running_loss = 0.0\n",
        "  correct = 0\n",
        "  total = 0\n",
        "\n",
        "  for data, labels in train_loader:\n",
        "\n",
        "    # # Bypass when Training Batch < config[\"batch_size\"]\n",
        "    # if data.size(0) != config[\"batch_size\"]:\n",
        "    #   continue\n",
        "\n",
        "    data, labels = data.to(device), labels.to(device)\n",
        "\n",
        "    optimizer.zero_grad()\n",
        "    spike_out, _ = model(data)\n",
        "    output = spike_out.mean(dim=0)\n",
        "\n",
        "    loss = loss_func(output, labels)\n",
        "    running_loss += loss.item()\n",
        "\n",
        "    _, prediction = torch.max(output.data, 1)\n",
        "    total += labels.size(0)\n",
        "    correct += (prediction == labels).sum().item()\n",
        "\n",
        "    loss.backward()\n",
        "    optimizer.step()\n",
        "\n",
        "  train_loss = running_loss / len(train_loader)\n",
        "  train_accuracy = 100 * correct / total\n",
        "\n",
        "  return train_loss, train_accuracy\n"
      ]
    },
    {
      "cell_type": "markdown",
      "metadata": {
        "id": "ASIWkgIgdcDL"
      },
      "source": [
        "## Validation Func"
      ]
    },
    {
      "cell_type": "code",
      "execution_count": 12,
      "metadata": {
        "id": "XB8iWh5odbu9"
      },
      "outputs": [],
      "source": [
        "def validate(\n",
        "    val_loader,\n",
        "    model,\n",
        "    loss_func,\n",
        "    device=config[\"device\"]):\n",
        "\n",
        "  model.eval()\n",
        "  running_loss = 0.0\n",
        "  correct = 0\n",
        "  total = 0\n",
        "\n",
        "\n",
        "  with torch.no_grad():\n",
        "    for data, labels in val_loader:\n",
        "\n",
        "      # # Bypass when Val Batch < config[\"batch_size\"]\n",
        "      # if data.size(0) != config[\"batch_size\"]:\n",
        "      #   continue\n",
        "\n",
        "      data, labels = data.to(device), labels.to(device)\n",
        "      spike_out, _ = model(data)\n",
        "      output = spike_out.mean(dim=0)\n",
        "      loss = loss_func(output, labels)\n",
        "      running_loss += loss.item()\n",
        "\n",
        "      _, prediction = torch.max(output.data, 1)\n",
        "      total += labels.size(0)\n",
        "      correct += (prediction == labels).sum().item()\n",
        "\n",
        "\n",
        "  val_loss = running_loss / len(val_loader)\n",
        "  val_accuracy = 100 * correct / total\n",
        "\n",
        "  return val_loss, val_accuracy\n"
      ]
    },
    {
      "cell_type": "markdown",
      "metadata": {
        "id": "LZJqaLMoewb3"
      },
      "source": [
        "# Run Code"
      ]
    },
    {
      "cell_type": "code",
      "execution_count": 13,
      "metadata": {},
      "outputs": [],
      "source": [
        "device = config[\"device\"]\n",
        "\n",
        "model = BSNN(config).to(device)\n",
        "optimizer = Adam(model.parameters(), lr=config[\"lr\"], betas=(0.9, 0.999))\n",
        "loss_func = nn.CrossEntropyLoss()"
      ]
    },
    {
      "cell_type": "code",
      "execution_count": 14,
      "metadata": {
        "id": "RWWnkH2Kexiq"
      },
      "outputs": [
        {
          "name": "stdout",
          "output_type": "stream",
          "text": [
            "Input shape: torch.Size([4920, 1, 2, 128, 128])\n",
            "Shape after merging time bins: torch.Size([4920, 2, 128, 128])\n",
            "Shape after bin_conv_1: torch.Size([4920, 12, 124, 124])\n",
            "Shape after batch_norm_1: torch.Size([4920, 12, 124, 124])\n",
            "Shape after max_pool_1: torch.Size([4920, 12, 62, 62])\n",
            "Shape after bin_conv_2: torch.Size([4920, 24, 58, 58])\n",
            "Shape after batch_norm_2: torch.Size([4920, 24, 58, 58])\n",
            "Shape after max_pool_2: torch.Size([4920, 24, 29, 29])\n",
            "Shape after flatten: torch.Size([4920, 20184])\n",
            "Shape after bin_fully_connected_1: torch.Size([4920, 128])\n",
            "Shape after dropout: torch.Size([4920, 128])\n",
            "Shape after bin_fully_connected_2: torch.Size([4920, 11])\n",
            "Shape after bin_conv_1: torch.Size([4920, 12, 124, 124])\n",
            "Shape after batch_norm_1: torch.Size([4920, 12, 124, 124])\n",
            "Shape after max_pool_1: torch.Size([4920, 12, 62, 62])\n",
            "Shape after bin_conv_2: torch.Size([4920, 24, 58, 58])\n",
            "Shape after batch_norm_2: torch.Size([4920, 24, 58, 58])\n",
            "Shape after max_pool_2: torch.Size([4920, 24, 29, 29])\n",
            "Shape after flatten: torch.Size([4920, 20184])\n",
            "Shape after bin_fully_connected_1: torch.Size([4920, 128])\n",
            "Shape after dropout: torch.Size([4920, 128])\n",
            "Shape after bin_fully_connected_2: torch.Size([4920, 11])\n",
            "Shape after bin_conv_1: torch.Size([4920, 12, 124, 124])\n",
            "Shape after batch_norm_1: torch.Size([4920, 12, 124, 124])\n",
            "Shape after max_pool_1: torch.Size([4920, 12, 62, 62])\n",
            "Shape after bin_conv_2: torch.Size([4920, 24, 58, 58])\n",
            "Shape after batch_norm_2: torch.Size([4920, 24, 58, 58])\n",
            "Shape after max_pool_2: torch.Size([4920, 24, 29, 29])\n",
            "Shape after flatten: torch.Size([4920, 20184])\n",
            "Shape after bin_fully_connected_1: torch.Size([4920, 128])\n",
            "Shape after dropout: torch.Size([4920, 128])\n",
            "Shape after bin_fully_connected_2: torch.Size([4920, 11])\n",
            "Shape after bin_conv_1: torch.Size([4920, 12, 124, 124])\n",
            "Shape after batch_norm_1: torch.Size([4920, 12, 124, 124])\n",
            "Shape after max_pool_1: torch.Size([4920, 12, 62, 62])\n",
            "Shape after bin_conv_2: torch.Size([4920, 24, 58, 58])\n",
            "Shape after batch_norm_2: torch.Size([4920, 24, 58, 58])\n",
            "Shape after max_pool_2: torch.Size([4920, 24, 29, 29])\n",
            "Shape after flatten: torch.Size([4920, 20184])\n",
            "Shape after bin_fully_connected_1: torch.Size([4920, 128])\n",
            "Shape after dropout: torch.Size([4920, 128])\n",
            "Shape after bin_fully_connected_2: torch.Size([4920, 11])\n",
            "Shape after bin_conv_1: torch.Size([4920, 12, 124, 124])\n",
            "Shape after batch_norm_1: torch.Size([4920, 12, 124, 124])\n",
            "Shape after max_pool_1: torch.Size([4920, 12, 62, 62])\n",
            "Shape after bin_conv_2: torch.Size([4920, 24, 58, 58])\n",
            "Shape after batch_norm_2: torch.Size([4920, 24, 58, 58])\n",
            "Shape after max_pool_2: torch.Size([4920, 24, 29, 29])\n",
            "Shape after flatten: torch.Size([4920, 20184])\n",
            "Shape after bin_fully_connected_1: torch.Size([4920, 128])\n",
            "Shape after dropout: torch.Size([4920, 128])\n",
            "Shape after bin_fully_connected_2: torch.Size([4920, 11])\n",
            "Shape after bin_conv_1: torch.Size([4920, 12, 124, 124])\n",
            "Shape after batch_norm_1: torch.Size([4920, 12, 124, 124])\n",
            "Shape after max_pool_1: torch.Size([4920, 12, 62, 62])\n",
            "Shape after bin_conv_2: torch.Size([4920, 24, 58, 58])\n",
            "Shape after batch_norm_2: torch.Size([4920, 24, 58, 58])\n",
            "Shape after max_pool_2: torch.Size([4920, 24, 29, 29])\n",
            "Shape after flatten: torch.Size([4920, 20184])\n",
            "Shape after bin_fully_connected_1: torch.Size([4920, 128])\n",
            "Shape after dropout: torch.Size([4920, 128])\n",
            "Shape after bin_fully_connected_2: torch.Size([4920, 11])\n"
          ]
        },
        {
          "ename": "",
          "evalue": "",
          "output_type": "error",
          "traceback": [
            "\u001b[1;31mThe Kernel crashed while executing code in the current cell or a previous cell. \n",
            "\u001b[1;31mPlease review the code in the cell(s) to identify a possible cause of the failure. \n",
            "\u001b[1;31mClick <a href='https://aka.ms/vscodeJupyterKernelCrash'>here</a> for more info. \n",
            "\u001b[1;31mView Jupyter <a href='command:jupyter.viewOutput'>log</a> for further details."
          ]
        },
        {
          "ename": "",
          "evalue": "",
          "output_type": "error",
          "traceback": [
            "\u001b[1;31mCanceled future for execute_request message before replies were done"
          ]
        },
        {
          "ename": "",
          "evalue": "",
          "output_type": "error",
          "traceback": [
            "\u001b[1;31mCanceled future for execute_request message before replies were done. \n",
            "\u001b[1;31mView Jupyter <a href='command:jupyter.viewOutput'>log</a> for further details."
          ]
        }
      ],
      "source": [
        "train_losses, train_accuracies, val_losses, val_accuracies = [], [], [], []\n",
        "# best_val_accuracy = 0\n",
        "# model_path = \"best_BSNN_model.pth\"\n",
        "\n",
        "for epoch in range(config[\"epochs\"]):\n",
        "  start_time = time.time()\n",
        "\n",
        "  train_loss, train_accuracy = train(train_loader=train_loader, model=model, optimizer=optimizer, loss_func=loss_func)\n",
        "  train_losses.append(train_loss)\n",
        "  train_accuracies.append(train_accuracy)\n",
        "\n",
        "  # val_loss, val_accuracy = validate(val_loader=val_loader, model=model, loss_func=loss_func)\n",
        "  # val_losses.append(val_loss)\n",
        "  # val_accuracies.append(val_accuracy)\n",
        "\n",
        "  end_time = time.time()\n",
        "\n",
        "  # print(f\"Epoch: {epoch + 1}, Training Loss: {train_loss:.5f}, Training Accuracy: {train_accuracy:.2f}%, Validation Loss: {val_loss:.5f}, Validation Accuracy: {val_accuracy:.2f}%\")\n",
        "  print(f\"Epoch: {epoch + 1}, Training Loss: {train_loss:.5f}, Training Accuracy: {train_accuracy:.2f}%\")\n",
        "  print(f\"Time complete Epoch {epoch + 1}: {int((end_time - start_time) // 60)}min {int((end_time - start_time) % 60)}sec\")\n",
        "\n",
        "  # if val_accuracy > best_val_accuracy:\n",
        "  #   best_val_accuracy = val_accuracy\n",
        "  #   torch.save(model.state_dict(), model_path)\n",
        "  #   print(f\"Saved model with improved validation accuracy: {val_accuracy:.2f}% \\n\")\n"
      ]
    },
    {
      "cell_type": "markdown",
      "metadata": {
        "id": "zSU_AlRMz8_k"
      },
      "source": [
        "# Hyper Param Sweep"
      ]
    },
    {
      "cell_type": "code",
      "execution_count": null,
      "metadata": {
        "id": "rFQUJoFcz8D3"
      },
      "outputs": [],
      "source": [
        "# def objective(trial):\n",
        "#     config[\"thresh_1\"] = trial.suggest_float(\"thresh_1\", 1, 20)\n",
        "#     config[\"thresh_2\"] = trial.suggest_float(\"thresh_2\", 1, 20)\n",
        "#     config[\"thresh_3\"] = trial.suggest_float(\"thresh_3\", 1, 20)\n",
        "#     config[\"beta\"] = trial.suggest_float(\"beta\", 0.1, 0.9)\n",
        "#     config[\"lr\"] = trial.suggest_float(\"lr\", 1e-10, 1e-3)\n",
        "#     config[\"num_steps\"] = trial.suggest_int(\"num_steps\", 5, 10)\n",
        "#     config[\"dropout\"] = trial.suggest_float(\"dropout\", 0.1, 0.75)\n",
        "\n",
        "#     device = config[\"device\"]\n",
        "\n",
        "#     model = BSNN(config).to(device)\n",
        "#     loss_func = nn.CrossEntropyLoss()\n",
        "#     optimizer = torch.optim.Adam(model.parameters(), lr=config[\"lr\"])\n",
        "\n",
        "#     for epoch in range(config[\"epochs\"]):\n",
        "#         train(train_loader, model, optimizer, loss_func)\n",
        "#         val_loss, _ = validate(val_loader, model, loss_func)\n",
        "\n",
        "#     return val_loss.item()\n",
        "\n",
        "\n"
      ]
    },
    {
      "cell_type": "code",
      "execution_count": null,
      "metadata": {
        "id": "1ciY1vVF3Feq"
      },
      "outputs": [],
      "source": [
        "# def run_study():\n",
        "#     study_name = \"bsnn_gesture_study\"\n",
        "#     storage_name = \"sqlite:///{}.db\".format(study_name)\n",
        "\n",
        "#     study = optuna.create_study(study_name=study_name, storage=storage_name, load_if_exists=True, direction=\"minimize\")\n",
        "#     study.optimize(objective, n_trials=10)\n",
        "\n",
        "#     study.trials_dataframe().to_csv(\"study_results.csv\")\n",
        "\n",
        "#     print(\"Study statistics: \")\n",
        "#     print(\"  Number of finished trials: \", len(study.trials))\n",
        "#     print(\"  Best trial:\")\n",
        "#     trial = study.best_trial\n",
        "#     print(\"    Value: \", trial.value)\n",
        "#     print(\"    Params: \")\n",
        "#     for key, value in trial.params.items():\n",
        "#         print(f\"      {key}: {value}\")"
      ]
    },
    {
      "cell_type": "code",
      "execution_count": null,
      "metadata": {
        "colab": {
          "background_save": true,
          "base_uri": "https://localhost:8080/"
        },
        "id": "q1jllXGzDnOI",
        "outputId": "5cb08f74-ad9f-4811-f18b-5dd70c7f9a20"
      },
      "outputs": [],
      "source": [
        "# run_study()"
      ]
    },
    {
      "cell_type": "markdown",
      "metadata": {
        "id": "kW9xJVpRfu1u"
      },
      "source": [
        "# Visualization and Analysis"
      ]
    },
    {
      "cell_type": "code",
      "execution_count": null,
      "metadata": {
        "id": "yXsCD6CcfxKd"
      },
      "outputs": [],
      "source": [
        "# # Plotting training, validation, and test losses\n",
        "# plt.figure(figsize=(10, 5))\n",
        "# plt.plot(train_losses, label='Training Loss')\n",
        "# plt.plot(val_losses, label='Validation Loss')\n",
        "# plt.title('Loss over Epochs')\n",
        "# plt.xlabel('Epochs')\n",
        "# plt.ylabel('Loss')\n",
        "# plt.legend()\n",
        "# plt.show()\n",
        "\n",
        "# # Plotting training, validation, and test accuracies\n",
        "# plt.figure(figsize=(10, 5))\n",
        "# plt.plot(train_accuracies, label='Training Accuracy')\n",
        "# plt.plot(val_accuracies, label='Validation Accuracy')\n",
        "# plt.title('Accuracy over Epochs')\n",
        "# plt.xlabel('Epochs')\n",
        "# plt.ylabel('Accuracy (%)')\n",
        "# plt.legend()\n",
        "# plt.show()"
      ]
    }
  ],
  "metadata": {
    "accelerator": "GPU",
    "colab": {
      "collapsed_sections": [
        "JRsR8Em5b2ew",
        "jONLfIpjb8Sp",
        "LZJqaLMoewb3",
        "kW9xJVpRfu1u"
      ],
      "gpuType": "V100",
      "machine_shape": "hm",
      "provenance": []
    },
    "kernelspec": {
      "display_name": "Python 3",
      "language": "python",
      "name": "python3"
    },
    "language_info": {
      "codemirror_mode": {
        "name": "ipython",
        "version": 3
      },
      "file_extension": ".py",
      "mimetype": "text/x-python",
      "name": "python",
      "nbconvert_exporter": "python",
      "pygments_lexer": "ipython3",
      "version": "3.10.13"
    },
    "widgets": {
      "application/vnd.jupyter.widget-state+json": {
        "04a9a1b8e4d940648ff0ff67cdb691c9": {
          "model_module": "@jupyter-widgets/controls",
          "model_module_version": "1.5.0",
          "model_name": "FloatProgressModel",
          "state": {
            "_dom_classes": [],
            "_model_module": "@jupyter-widgets/controls",
            "_model_module_version": "1.5.0",
            "_model_name": "FloatProgressModel",
            "_view_count": null,
            "_view_module": "@jupyter-widgets/controls",
            "_view_module_version": "1.5.0",
            "_view_name": "ProgressView",
            "bar_style": "success",
            "description": "",
            "description_tooltip": null,
            "layout": "IPY_MODEL_c6866a410c6f413698d0f774168c876e",
            "max": 2443675558,
            "min": 0,
            "orientation": "horizontal",
            "style": "IPY_MODEL_f13359e19c81452abea7f31db7849d7d",
            "value": 2443675558
          }
        },
        "1b6604f09bf246dfa3058096053cf7b5": {
          "model_module": "@jupyter-widgets/controls",
          "model_module_version": "1.5.0",
          "model_name": "HBoxModel",
          "state": {
            "_dom_classes": [],
            "_model_module": "@jupyter-widgets/controls",
            "_model_module_version": "1.5.0",
            "_model_name": "HBoxModel",
            "_view_count": null,
            "_view_module": "@jupyter-widgets/controls",
            "_view_module_version": "1.5.0",
            "_view_name": "HBoxView",
            "box_style": "",
            "children": [
              "IPY_MODEL_5b7c6c473c254a7f8d2d0e21537e98b8",
              "IPY_MODEL_04a9a1b8e4d940648ff0ff67cdb691c9",
              "IPY_MODEL_90ed5c6bdaaa4a91b05ef752a1cc59f3"
            ],
            "layout": "IPY_MODEL_56f3b30612454cbd928538a9ff137374"
          }
        },
        "1f7849305a0540b08d6b7b2f65735f05": {
          "model_module": "@jupyter-widgets/controls",
          "model_module_version": "1.5.0",
          "model_name": "DescriptionStyleModel",
          "state": {
            "_model_module": "@jupyter-widgets/controls",
            "_model_module_version": "1.5.0",
            "_model_name": "DescriptionStyleModel",
            "_view_count": null,
            "_view_module": "@jupyter-widgets/base",
            "_view_module_version": "1.2.0",
            "_view_name": "StyleView",
            "description_width": ""
          }
        },
        "3aecc3e7c94741afa39bf381535a5c46": {
          "model_module": "@jupyter-widgets/base",
          "model_module_version": "1.2.0",
          "model_name": "LayoutModel",
          "state": {
            "_model_module": "@jupyter-widgets/base",
            "_model_module_version": "1.2.0",
            "_model_name": "LayoutModel",
            "_view_count": null,
            "_view_module": "@jupyter-widgets/base",
            "_view_module_version": "1.2.0",
            "_view_name": "LayoutView",
            "align_content": null,
            "align_items": null,
            "align_self": null,
            "border": null,
            "bottom": null,
            "display": null,
            "flex": null,
            "flex_flow": null,
            "grid_area": null,
            "grid_auto_columns": null,
            "grid_auto_flow": null,
            "grid_auto_rows": null,
            "grid_column": null,
            "grid_gap": null,
            "grid_row": null,
            "grid_template_areas": null,
            "grid_template_columns": null,
            "grid_template_rows": null,
            "height": null,
            "justify_content": null,
            "justify_items": null,
            "left": null,
            "margin": null,
            "max_height": null,
            "max_width": null,
            "min_height": null,
            "min_width": null,
            "object_fit": null,
            "object_position": null,
            "order": null,
            "overflow": null,
            "overflow_x": null,
            "overflow_y": null,
            "padding": null,
            "right": null,
            "top": null,
            "visibility": null,
            "width": null
          }
        },
        "56f3b30612454cbd928538a9ff137374": {
          "model_module": "@jupyter-widgets/base",
          "model_module_version": "1.2.0",
          "model_name": "LayoutModel",
          "state": {
            "_model_module": "@jupyter-widgets/base",
            "_model_module_version": "1.2.0",
            "_model_name": "LayoutModel",
            "_view_count": null,
            "_view_module": "@jupyter-widgets/base",
            "_view_module_version": "1.2.0",
            "_view_name": "LayoutView",
            "align_content": null,
            "align_items": null,
            "align_self": null,
            "border": null,
            "bottom": null,
            "display": null,
            "flex": null,
            "flex_flow": null,
            "grid_area": null,
            "grid_auto_columns": null,
            "grid_auto_flow": null,
            "grid_auto_rows": null,
            "grid_column": null,
            "grid_gap": null,
            "grid_row": null,
            "grid_template_areas": null,
            "grid_template_columns": null,
            "grid_template_rows": null,
            "height": null,
            "justify_content": null,
            "justify_items": null,
            "left": null,
            "margin": null,
            "max_height": null,
            "max_width": null,
            "min_height": null,
            "min_width": null,
            "object_fit": null,
            "object_position": null,
            "order": null,
            "overflow": null,
            "overflow_x": null,
            "overflow_y": null,
            "padding": null,
            "right": null,
            "top": null,
            "visibility": null,
            "width": null
          }
        },
        "57f236ee6ed1401ca2bc824fcf9bba58": {
          "model_module": "@jupyter-widgets/controls",
          "model_module_version": "1.5.0",
          "model_name": "HBoxModel",
          "state": {
            "_dom_classes": [],
            "_model_module": "@jupyter-widgets/controls",
            "_model_module_version": "1.5.0",
            "_model_name": "HBoxModel",
            "_view_count": null,
            "_view_module": "@jupyter-widgets/controls",
            "_view_module_version": "1.5.0",
            "_view_name": "HBoxView",
            "box_style": "",
            "children": [
              "IPY_MODEL_7c3c74d3e9ac4fbd8898e861e09b4c5a",
              "IPY_MODEL_8d30a9748ee348259d6325e3d18e18f9",
              "IPY_MODEL_e57111e4047c4a118ddb5fd9fd44cda3"
            ],
            "layout": "IPY_MODEL_8f85ca20cdc34634a56d47c8b8a475dc"
          }
        },
        "5b7c6c473c254a7f8d2d0e21537e98b8": {
          "model_module": "@jupyter-widgets/controls",
          "model_module_version": "1.5.0",
          "model_name": "HTMLModel",
          "state": {
            "_dom_classes": [],
            "_model_module": "@jupyter-widgets/controls",
            "_model_module_version": "1.5.0",
            "_model_name": "HTMLModel",
            "_view_count": null,
            "_view_module": "@jupyter-widgets/controls",
            "_view_module_version": "1.5.0",
            "_view_name": "HTMLView",
            "description": "",
            "description_tooltip": null,
            "layout": "IPY_MODEL_f9f8b7b15caa4248b537fc76f83e9c6a",
            "placeholder": "​",
            "style": "IPY_MODEL_900fa2e7ea2541c6918f94180f864bc7",
            "value": ""
          }
        },
        "7608dee8e5bb48beb30e185648dd5cd4": {
          "model_module": "@jupyter-widgets/base",
          "model_module_version": "1.2.0",
          "model_name": "LayoutModel",
          "state": {
            "_model_module": "@jupyter-widgets/base",
            "_model_module_version": "1.2.0",
            "_model_name": "LayoutModel",
            "_view_count": null,
            "_view_module": "@jupyter-widgets/base",
            "_view_module_version": "1.2.0",
            "_view_name": "LayoutView",
            "align_content": null,
            "align_items": null,
            "align_self": null,
            "border": null,
            "bottom": null,
            "display": null,
            "flex": null,
            "flex_flow": null,
            "grid_area": null,
            "grid_auto_columns": null,
            "grid_auto_flow": null,
            "grid_auto_rows": null,
            "grid_column": null,
            "grid_gap": null,
            "grid_row": null,
            "grid_template_areas": null,
            "grid_template_columns": null,
            "grid_template_rows": null,
            "height": null,
            "justify_content": null,
            "justify_items": null,
            "left": null,
            "margin": null,
            "max_height": null,
            "max_width": null,
            "min_height": null,
            "min_width": null,
            "object_fit": null,
            "object_position": null,
            "order": null,
            "overflow": null,
            "overflow_x": null,
            "overflow_y": null,
            "padding": null,
            "right": null,
            "top": null,
            "visibility": null,
            "width": null
          }
        },
        "7c3c74d3e9ac4fbd8898e861e09b4c5a": {
          "model_module": "@jupyter-widgets/controls",
          "model_module_version": "1.5.0",
          "model_name": "HTMLModel",
          "state": {
            "_dom_classes": [],
            "_model_module": "@jupyter-widgets/controls",
            "_model_module_version": "1.5.0",
            "_model_name": "HTMLModel",
            "_view_count": null,
            "_view_module": "@jupyter-widgets/controls",
            "_view_module_version": "1.5.0",
            "_view_name": "HTMLView",
            "description": "",
            "description_tooltip": null,
            "layout": "IPY_MODEL_3aecc3e7c94741afa39bf381535a5c46",
            "placeholder": "​",
            "style": "IPY_MODEL_df68382e4efc4d1bb450e3c6e514aa51",
            "value": ""
          }
        },
        "8d30a9748ee348259d6325e3d18e18f9": {
          "model_module": "@jupyter-widgets/controls",
          "model_module_version": "1.5.0",
          "model_name": "FloatProgressModel",
          "state": {
            "_dom_classes": [],
            "_model_module": "@jupyter-widgets/controls",
            "_model_module_version": "1.5.0",
            "_model_name": "FloatProgressModel",
            "_view_count": null,
            "_view_module": "@jupyter-widgets/controls",
            "_view_module_version": "1.5.0",
            "_view_name": "ProgressView",
            "bar_style": "success",
            "description": "",
            "description_tooltip": null,
            "layout": "IPY_MODEL_db67d177fc734265af07c685b9b37219",
            "max": 691455012,
            "min": 0,
            "orientation": "horizontal",
            "style": "IPY_MODEL_b1dc2ebc6cfe46d89759b404b1efba69",
            "value": 691455012
          }
        },
        "8f85ca20cdc34634a56d47c8b8a475dc": {
          "model_module": "@jupyter-widgets/base",
          "model_module_version": "1.2.0",
          "model_name": "LayoutModel",
          "state": {
            "_model_module": "@jupyter-widgets/base",
            "_model_module_version": "1.2.0",
            "_model_name": "LayoutModel",
            "_view_count": null,
            "_view_module": "@jupyter-widgets/base",
            "_view_module_version": "1.2.0",
            "_view_name": "LayoutView",
            "align_content": null,
            "align_items": null,
            "align_self": null,
            "border": null,
            "bottom": null,
            "display": null,
            "flex": null,
            "flex_flow": null,
            "grid_area": null,
            "grid_auto_columns": null,
            "grid_auto_flow": null,
            "grid_auto_rows": null,
            "grid_column": null,
            "grid_gap": null,
            "grid_row": null,
            "grid_template_areas": null,
            "grid_template_columns": null,
            "grid_template_rows": null,
            "height": null,
            "justify_content": null,
            "justify_items": null,
            "left": null,
            "margin": null,
            "max_height": null,
            "max_width": null,
            "min_height": null,
            "min_width": null,
            "object_fit": null,
            "object_position": null,
            "order": null,
            "overflow": null,
            "overflow_x": null,
            "overflow_y": null,
            "padding": null,
            "right": null,
            "top": null,
            "visibility": null,
            "width": null
          }
        },
        "900fa2e7ea2541c6918f94180f864bc7": {
          "model_module": "@jupyter-widgets/controls",
          "model_module_version": "1.5.0",
          "model_name": "DescriptionStyleModel",
          "state": {
            "_model_module": "@jupyter-widgets/controls",
            "_model_module_version": "1.5.0",
            "_model_name": "DescriptionStyleModel",
            "_view_count": null,
            "_view_module": "@jupyter-widgets/base",
            "_view_module_version": "1.2.0",
            "_view_name": "StyleView",
            "description_width": ""
          }
        },
        "90ed5c6bdaaa4a91b05ef752a1cc59f3": {
          "model_module": "@jupyter-widgets/controls",
          "model_module_version": "1.5.0",
          "model_name": "HTMLModel",
          "state": {
            "_dom_classes": [],
            "_model_module": "@jupyter-widgets/controls",
            "_model_module_version": "1.5.0",
            "_model_name": "HTMLModel",
            "_view_count": null,
            "_view_module": "@jupyter-widgets/controls",
            "_view_module_version": "1.5.0",
            "_view_name": "HTMLView",
            "description": "",
            "description_tooltip": null,
            "layout": "IPY_MODEL_7608dee8e5bb48beb30e185648dd5cd4",
            "placeholder": "​",
            "style": "IPY_MODEL_1f7849305a0540b08d6b7b2f65735f05",
            "value": " 2443675648/? [00:27&lt;00:00, 94376756.17it/s]"
          }
        },
        "9103fa6673cd45b384cce2d559e43e8c": {
          "model_module": "@jupyter-widgets/base",
          "model_module_version": "1.2.0",
          "model_name": "LayoutModel",
          "state": {
            "_model_module": "@jupyter-widgets/base",
            "_model_module_version": "1.2.0",
            "_model_name": "LayoutModel",
            "_view_count": null,
            "_view_module": "@jupyter-widgets/base",
            "_view_module_version": "1.2.0",
            "_view_name": "LayoutView",
            "align_content": null,
            "align_items": null,
            "align_self": null,
            "border": null,
            "bottom": null,
            "display": null,
            "flex": null,
            "flex_flow": null,
            "grid_area": null,
            "grid_auto_columns": null,
            "grid_auto_flow": null,
            "grid_auto_rows": null,
            "grid_column": null,
            "grid_gap": null,
            "grid_row": null,
            "grid_template_areas": null,
            "grid_template_columns": null,
            "grid_template_rows": null,
            "height": null,
            "justify_content": null,
            "justify_items": null,
            "left": null,
            "margin": null,
            "max_height": null,
            "max_width": null,
            "min_height": null,
            "min_width": null,
            "object_fit": null,
            "object_position": null,
            "order": null,
            "overflow": null,
            "overflow_x": null,
            "overflow_y": null,
            "padding": null,
            "right": null,
            "top": null,
            "visibility": null,
            "width": null
          }
        },
        "b1dc2ebc6cfe46d89759b404b1efba69": {
          "model_module": "@jupyter-widgets/controls",
          "model_module_version": "1.5.0",
          "model_name": "ProgressStyleModel",
          "state": {
            "_model_module": "@jupyter-widgets/controls",
            "_model_module_version": "1.5.0",
            "_model_name": "ProgressStyleModel",
            "_view_count": null,
            "_view_module": "@jupyter-widgets/base",
            "_view_module_version": "1.2.0",
            "_view_name": "StyleView",
            "bar_color": null,
            "description_width": ""
          }
        },
        "bb14e3521c1043d69b3d2c6faa4c8a6d": {
          "model_module": "@jupyter-widgets/controls",
          "model_module_version": "1.5.0",
          "model_name": "DescriptionStyleModel",
          "state": {
            "_model_module": "@jupyter-widgets/controls",
            "_model_module_version": "1.5.0",
            "_model_name": "DescriptionStyleModel",
            "_view_count": null,
            "_view_module": "@jupyter-widgets/base",
            "_view_module_version": "1.2.0",
            "_view_name": "StyleView",
            "description_width": ""
          }
        },
        "c6866a410c6f413698d0f774168c876e": {
          "model_module": "@jupyter-widgets/base",
          "model_module_version": "1.2.0",
          "model_name": "LayoutModel",
          "state": {
            "_model_module": "@jupyter-widgets/base",
            "_model_module_version": "1.2.0",
            "_model_name": "LayoutModel",
            "_view_count": null,
            "_view_module": "@jupyter-widgets/base",
            "_view_module_version": "1.2.0",
            "_view_name": "LayoutView",
            "align_content": null,
            "align_items": null,
            "align_self": null,
            "border": null,
            "bottom": null,
            "display": null,
            "flex": null,
            "flex_flow": null,
            "grid_area": null,
            "grid_auto_columns": null,
            "grid_auto_flow": null,
            "grid_auto_rows": null,
            "grid_column": null,
            "grid_gap": null,
            "grid_row": null,
            "grid_template_areas": null,
            "grid_template_columns": null,
            "grid_template_rows": null,
            "height": null,
            "justify_content": null,
            "justify_items": null,
            "left": null,
            "margin": null,
            "max_height": null,
            "max_width": null,
            "min_height": null,
            "min_width": null,
            "object_fit": null,
            "object_position": null,
            "order": null,
            "overflow": null,
            "overflow_x": null,
            "overflow_y": null,
            "padding": null,
            "right": null,
            "top": null,
            "visibility": null,
            "width": null
          }
        },
        "db67d177fc734265af07c685b9b37219": {
          "model_module": "@jupyter-widgets/base",
          "model_module_version": "1.2.0",
          "model_name": "LayoutModel",
          "state": {
            "_model_module": "@jupyter-widgets/base",
            "_model_module_version": "1.2.0",
            "_model_name": "LayoutModel",
            "_view_count": null,
            "_view_module": "@jupyter-widgets/base",
            "_view_module_version": "1.2.0",
            "_view_name": "LayoutView",
            "align_content": null,
            "align_items": null,
            "align_self": null,
            "border": null,
            "bottom": null,
            "display": null,
            "flex": null,
            "flex_flow": null,
            "grid_area": null,
            "grid_auto_columns": null,
            "grid_auto_flow": null,
            "grid_auto_rows": null,
            "grid_column": null,
            "grid_gap": null,
            "grid_row": null,
            "grid_template_areas": null,
            "grid_template_columns": null,
            "grid_template_rows": null,
            "height": null,
            "justify_content": null,
            "justify_items": null,
            "left": null,
            "margin": null,
            "max_height": null,
            "max_width": null,
            "min_height": null,
            "min_width": null,
            "object_fit": null,
            "object_position": null,
            "order": null,
            "overflow": null,
            "overflow_x": null,
            "overflow_y": null,
            "padding": null,
            "right": null,
            "top": null,
            "visibility": null,
            "width": null
          }
        },
        "df68382e4efc4d1bb450e3c6e514aa51": {
          "model_module": "@jupyter-widgets/controls",
          "model_module_version": "1.5.0",
          "model_name": "DescriptionStyleModel",
          "state": {
            "_model_module": "@jupyter-widgets/controls",
            "_model_module_version": "1.5.0",
            "_model_name": "DescriptionStyleModel",
            "_view_count": null,
            "_view_module": "@jupyter-widgets/base",
            "_view_module_version": "1.2.0",
            "_view_name": "StyleView",
            "description_width": ""
          }
        },
        "e57111e4047c4a118ddb5fd9fd44cda3": {
          "model_module": "@jupyter-widgets/controls",
          "model_module_version": "1.5.0",
          "model_name": "HTMLModel",
          "state": {
            "_dom_classes": [],
            "_model_module": "@jupyter-widgets/controls",
            "_model_module_version": "1.5.0",
            "_model_name": "HTMLModel",
            "_view_count": null,
            "_view_module": "@jupyter-widgets/controls",
            "_view_module_version": "1.5.0",
            "_view_name": "HTMLView",
            "description": "",
            "description_tooltip": null,
            "layout": "IPY_MODEL_9103fa6673cd45b384cce2d559e43e8c",
            "placeholder": "​",
            "style": "IPY_MODEL_bb14e3521c1043d69b3d2c6faa4c8a6d",
            "value": " 691456000/? [00:06&lt;00:00, 105563081.87it/s]"
          }
        },
        "f13359e19c81452abea7f31db7849d7d": {
          "model_module": "@jupyter-widgets/controls",
          "model_module_version": "1.5.0",
          "model_name": "ProgressStyleModel",
          "state": {
            "_model_module": "@jupyter-widgets/controls",
            "_model_module_version": "1.5.0",
            "_model_name": "ProgressStyleModel",
            "_view_count": null,
            "_view_module": "@jupyter-widgets/base",
            "_view_module_version": "1.2.0",
            "_view_name": "StyleView",
            "bar_color": null,
            "description_width": ""
          }
        },
        "f9f8b7b15caa4248b537fc76f83e9c6a": {
          "model_module": "@jupyter-widgets/base",
          "model_module_version": "1.2.0",
          "model_name": "LayoutModel",
          "state": {
            "_model_module": "@jupyter-widgets/base",
            "_model_module_version": "1.2.0",
            "_model_name": "LayoutModel",
            "_view_count": null,
            "_view_module": "@jupyter-widgets/base",
            "_view_module_version": "1.2.0",
            "_view_name": "LayoutView",
            "align_content": null,
            "align_items": null,
            "align_self": null,
            "border": null,
            "bottom": null,
            "display": null,
            "flex": null,
            "flex_flow": null,
            "grid_area": null,
            "grid_auto_columns": null,
            "grid_auto_flow": null,
            "grid_auto_rows": null,
            "grid_column": null,
            "grid_gap": null,
            "grid_row": null,
            "grid_template_areas": null,
            "grid_template_columns": null,
            "grid_template_rows": null,
            "height": null,
            "justify_content": null,
            "justify_items": null,
            "left": null,
            "margin": null,
            "max_height": null,
            "max_width": null,
            "min_height": null,
            "min_width": null,
            "object_fit": null,
            "object_position": null,
            "order": null,
            "overflow": null,
            "overflow_x": null,
            "overflow_y": null,
            "padding": null,
            "right": null,
            "top": null,
            "visibility": null,
            "width": null
          }
        }
      }
    }
  },
  "nbformat": 4,
  "nbformat_minor": 0
}
